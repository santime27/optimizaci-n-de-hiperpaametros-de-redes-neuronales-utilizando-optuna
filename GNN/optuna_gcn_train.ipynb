{
 "cells": [
  {
   "cell_type": "code",
   "execution_count": 1,
   "metadata": {},
   "outputs": [
    {
     "name": "stderr",
     "output_type": "stream",
     "text": [
      "c:\\Users\\User\\anaconda3\\envs\\cnn-env\\lib\\site-packages\\tqdm\\auto.py:21: TqdmWarning: IProgress not found. Please update jupyter and ipywidgets. See https://ipywidgets.readthedocs.io/en/stable/user_install.html\n",
      "  from .autonotebook import tqdm as notebook_tqdm\n"
     ]
    }
   ],
   "source": [
    "import optuna\n",
    "from torch_geometric.datasets import Planetoid\n",
    "from torch_geometric.transforms import NormalizeFeatures\n",
    "from torch_geometric.data import Data\n",
    "import torch.optim as optim\n",
    "from torch import nn\n",
    "import torch\n",
    "import time\n",
    "\n",
    "from GCN_network import GCNNetwork,train,test,validation"
   ]
  },
  {
   "cell_type": "code",
   "execution_count": 2,
   "metadata": {},
   "outputs": [],
   "source": [
    "dataset     = Planetoid(root='data/Planetoid', name='Cora', transform=NormalizeFeatures())\n",
    "data        = dataset[0]\n",
    "FEATURES    = dataset.num_features\n",
    "CLASSES     = dataset.num_classes\n",
    "EDGE_INDEX  = data.edge_index\n",
    "\n",
    "EPOCHS      = 100\n",
    "EPOCHS_RETRAIN = 10"
   ]
  },
  {
   "cell_type": "code",
   "execution_count": 3,
   "metadata": {},
   "outputs": [],
   "source": [
    "def objective(trial):\n",
    "    \"\"\"Funcion objetivo para optimizar la red neuronal\n",
    "    \n",
    "    Args:\n",
    "    trial (optuna.trial): Objeto de la clase trial de optuna\n",
    "    \n",
    "    Returns:\n",
    "    float: test_accuracy obtenido en la validacion\"\"\"\n",
    "\n",
    "    #se define el numero de capaz\n",
    "    n_layers                = trial.suggest_int(f'n_layers', 1, 3)\n",
    "    channels_per_layer      = []\n",
    "\n",
    "    #se calcula el numero de neuronas por capa\n",
    "    for i in range(n_layers):\n",
    "        channels  = trial.suggest_int(f'n_chanels_l{i}', 50, 500)\n",
    "        channels_per_layer.append(channels)\n",
    "\n",
    "    #se instancia el modelo, con los diferentes parametros\n",
    "    model               = GCNNetwork(FEATURES, CLASSES, channels_per_layer)\n",
    "\n",
    "    #se define la funcion de perdida y el optimizador\n",
    "    optimizer_name      = trial.suggest_categorical(\"optimizer\", [\"Adam\", \"RMSprop\", \"SGD\"])\n",
    "    lr                  = trial.suggest_float(\"lr\", 1e-5, 1e-1, log=True)\n",
    "    optimizer           = getattr(optim, optimizer_name)(model.parameters(), lr=lr)\n",
    "    loss_fn             = nn.CrossEntropyLoss()\n",
    "\n",
    "    #se realiza el entrenamiento\n",
    "    for epoch in range(1, EPOCHS + 1):\n",
    "        train_loss     = train(data,model,loss_fn, optimizer,EDGE_INDEX)\n",
    "        val_acc        = validation(data, model,EDGE_INDEX)\n",
    "        #se reporta el 'accuracy obtenido luego de la validacion'\n",
    "        trial.report(val_acc, epoch)\n",
    "\n",
    "        #si el entrenamiento no es prometedor, se detiene el entrenamiento\n",
    "        if trial.should_prune():\n",
    "            raise optuna.exceptions.TrialPruned()\n",
    "        \n",
    "    return val_acc"
   ]
  },
  {
   "cell_type": "code",
   "execution_count": 4,
   "metadata": {},
   "outputs": [
    {
     "name": "stderr",
     "output_type": "stream",
     "text": [
      "[I 2024-10-23 13:00:29,746] A new study created in memory with name: GCN-training\n",
      "[I 2024-10-23 13:00:54,306] Trial 0 finished with value: 12.8 and parameters: {'n_layers': 2, 'n_chanels_l0': 485, 'n_chanels_l1': 82, 'optimizer': 'SGD', 'lr': 0.00016950818420477352}. Best is trial 0 with value: 12.8.\n",
      "[I 2024-10-23 13:01:00,956] Trial 1 finished with value: 78.8 and parameters: {'n_layers': 2, 'n_chanels_l0': 62, 'n_chanels_l1': 234, 'optimizer': 'RMSprop', 'lr': 0.0038146836237282562}. Best is trial 1 with value: 78.8.\n",
      "[I 2024-10-23 13:01:05,996] Trial 2 finished with value: 27.400000000000002 and parameters: {'n_layers': 1, 'n_chanels_l0': 100, 'optimizer': 'Adam', 'lr': 2.1128158057259008e-05}. Best is trial 1 with value: 78.8.\n",
      "[I 2024-10-23 13:01:31,838] Trial 3 finished with value: 24.0 and parameters: {'n_layers': 3, 'n_chanels_l0': 313, 'n_chanels_l1': 491, 'n_chanels_l2': 92, 'optimizer': 'SGD', 'lr': 0.02018428087742989}. Best is trial 1 with value: 78.8.\n",
      "[I 2024-10-23 13:01:52,769] Trial 4 finished with value: 75.8 and parameters: {'n_layers': 1, 'n_chanels_l0': 471, 'optimizer': 'RMSprop', 'lr': 0.00011135915202643765}. Best is trial 1 with value: 78.8.\n",
      "[I 2024-10-23 13:01:53,796] Trial 5 pruned. \n",
      "[I 2024-10-23 13:01:53,902] Trial 6 pruned. \n",
      "[I 2024-10-23 13:01:54,699] Trial 7 pruned. \n",
      "[I 2024-10-23 13:01:56,634] Trial 8 pruned. \n",
      "[I 2024-10-23 13:01:56,866] Trial 9 pruned. \n",
      "[I 2024-10-23 13:02:07,808] Trial 10 finished with value: 62.0 and parameters: {'n_layers': 2, 'n_chanels_l0': 188, 'n_chanels_l1': 131, 'optimizer': 'RMSprop', 'lr': 0.09540222136745467}. Best is trial 1 with value: 78.8.\n",
      "[I 2024-10-23 13:02:07,899] Trial 11 pruned. \n",
      "[I 2024-10-23 13:02:32,367] Trial 12 finished with value: 78.60000000000001 and parameters: {'n_layers': 3, 'n_chanels_l0': 394, 'n_chanels_l1': 352, 'n_chanels_l2': 59, 'optimizer': 'RMSprop', 'lr': 0.0005268089475063878}. Best is trial 1 with value: 78.8.\n",
      "[I 2024-10-23 13:02:32,740] Trial 13 pruned. \n",
      "[I 2024-10-23 13:02:33,017] Trial 14 pruned. \n",
      "[I 2024-10-23 13:02:33,351] Trial 15 pruned. \n",
      "[I 2024-10-23 13:02:33,549] Trial 16 pruned. \n",
      "[I 2024-10-23 13:02:33,752] Trial 17 pruned. \n",
      "[I 2024-10-23 13:03:00,424] Trial 18 finished with value: 73.6 and parameters: {'n_layers': 3, 'n_chanels_l0': 432, 'n_chanels_l1': 174, 'n_chanels_l2': 485, 'optimizer': 'Adam', 'lr': 0.03833240299305965}. Best is trial 1 with value: 78.8.\n",
      "[I 2024-10-23 13:03:00,697] Trial 19 pruned. \n"
     ]
    }
   ],
   "source": [
    "#se crea el estudio de optuna\n",
    "study_name      = \"GCN-training\"  \n",
    "\n",
    "#se carga el estudio si ya existe y se dirige la direccion hacia donde optuna realizara la optimizacion\n",
    "study           = optuna.create_study(direction='maximize',load_if_exists=True,study_name=study_name)\n",
    "study.optimize(objective, n_trials=20)"
   ]
  },
  {
   "cell_type": "code",
   "execution_count": 5,
   "metadata": {},
   "outputs": [
    {
     "name": "stdout",
     "output_type": "stream",
     "text": [
      "Best trial:\n",
      "  Value:  78.8\n",
      "  Params: \n",
      "    n_layers: 2\n",
      "    n_chanels_l0: 62\n",
      "    n_chanels_l1: 234\n",
      "    optimizer: RMSprop\n",
      "    lr: 0.0038146836237282562\n"
     ]
    }
   ],
   "source": [
    "#se imprimen los mejores hiperparmametros del estudio\n",
    "print(\"Best trial:\")\n",
    "trial = study.best_trial\n",
    "print(\"  Value: \", trial.value)\n",
    "print(\"  Params: \")\n",
    "for key, value in trial.params.items():\n",
    "    print(\"    {}: {}\".format(key, value))"
   ]
  },
  {
   "cell_type": "code",
   "execution_count": 6,
   "metadata": {},
   "outputs": [
    {
     "name": "stdout",
     "output_type": "stream",
     "text": [
      "Epoch 1/10 - val acc: 5.8000\n",
      "Epoch 2/10 - val acc: 13.6000\n",
      "Epoch 3/10 - val acc: 19.8000\n",
      "Epoch 4/10 - val acc: 38.2000\n",
      "Epoch 5/10 - val acc: 62.2000\n",
      "Epoch 6/10 - val acc: 22.2000\n",
      "Epoch 7/10 - val acc: 51.6000\n",
      "Epoch 8/10 - val acc: 67.4000\n",
      "Epoch 9/10 - val acc: 72.8000\n",
      "Epoch 10/10 - val acc: 72.0000\n"
     ]
    }
   ],
   "source": [
    "#se obtienen los mejores parametros y se re entrena el modelo con estos parametros\n",
    "n_layers                = study.best_trial.params[\"n_layers\"]\n",
    "channels_per_layer      = []\n",
    "\n",
    "for i in range(n_layers ):\n",
    "    channels_per_layer.append(study.best_trial.params[f\"n_chanels_l{i}\"])\n",
    "    \n",
    "model               = GCNNetwork(FEATURES, CLASSES, channels_per_layer)\n",
    "optimizer_name   = study.best_trial.params[\"optimizer\"]\n",
    "lr               = study.best_trial.params[\"lr\"]\n",
    "optimizer        = getattr(optim, optimizer_name)(model.parameters(), lr=lr)\n",
    "loss_fn          = nn.CrossEntropyLoss()\n",
    "\n",
    "#se realiza el re-entrenamiento\n",
    "for epoch in range(1, EPOCHS_RETRAIN + 1):\n",
    "    train_loss         = train(data,model,loss_fn, optimizer,EDGE_INDEX)\n",
    "    val_acc            = validation(data, model,EDGE_INDEX)\n",
    "    print(f\"Epoch {epoch}/{EPOCHS_RETRAIN} - val acc: {val_acc:.4f}\")"
   ]
  },
  {
   "cell_type": "code",
   "execution_count": 7,
   "metadata": {},
   "outputs": [
    {
     "name": "stdout",
     "output_type": "stream",
     "text": [
      "Test accuracy: 77.0000\n"
     ]
    }
   ],
   "source": [
    "#se evalua el rendimiento final del modelo\n",
    "test_acc = test(data, model,EDGE_INDEX)\n",
    "print(f\"Test accuracy: {test_acc:.4f}\")"
   ]
  }
 ],
 "metadata": {
  "kernelspec": {
   "display_name": "cnn-env",
   "language": "python",
   "name": "python3"
  },
  "language_info": {
   "codemirror_mode": {
    "name": "ipython",
    "version": 3
   },
   "file_extension": ".py",
   "mimetype": "text/x-python",
   "name": "python",
   "nbconvert_exporter": "python",
   "pygments_lexer": "ipython3",
   "version": "3.9.11"
  }
 },
 "nbformat": 4,
 "nbformat_minor": 2
}
