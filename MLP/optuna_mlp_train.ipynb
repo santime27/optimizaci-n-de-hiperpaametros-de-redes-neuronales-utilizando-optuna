{
 "cells": [
  {
   "cell_type": "code",
   "execution_count": 1,
   "metadata": {},
   "outputs": [
    {
     "name": "stderr",
     "output_type": "stream",
     "text": [
      "c:\\Users\\User\\anaconda3\\envs\\cnn-env\\lib\\site-packages\\tqdm\\auto.py:21: TqdmWarning: IProgress not found. Please update jupyter and ipywidgets. See https://ipywidgets.readthedocs.io/en/stable/user_install.html\n",
      "  from .autonotebook import tqdm as notebook_tqdm\n"
     ]
    }
   ],
   "source": [
    "import torch\n",
    "from torch import nn\n",
    "from torchvision import datasets,transforms\n",
    "from torch.utils.data import DataLoader, random_split\n",
    "import torch.optim as optim\n",
    "import optuna\n",
    "import os\n",
    "\n",
    "#direccion donde se almacenaran los datos\n",
    "DIR = os.getcwd()\n",
    "\n",
    "#estructura red neuronal y otras funciones\n",
    "from MLP_network import MLPNetwork,train,test,get_mnist"
   ]
  },
  {
   "cell_type": "code",
   "execution_count": 11,
   "metadata": {},
   "outputs": [],
   "source": [
    "#se define el tipo de dispositivo utilzado para el entrenamiento, en este caso CPU\n",
    "DEVICE          = torch.device(\"cpu\")\n",
    "BATCHSIZE       = 128\n",
    "EPOCHS          = 50\n",
    "EPOCHS_RETRAIN  = 50"
   ]
  },
  {
   "cell_type": "code",
   "execution_count": 3,
   "metadata": {},
   "outputs": [],
   "source": [
    "train_loader,validation_loader, test_loader,num_classes = get_mnist(BATCHSIZE)"
   ]
  },
  {
   "cell_type": "code",
   "execution_count": 4,
   "metadata": {},
   "outputs": [],
   "source": [
    "#se crea la funcion objetivo, donde se almacenara toda la logica de instanciacion del modelo y el entrenamiento\n",
    "def objective(trial):\n",
    "    \"\"\"Funcion objetivo para optimizar la red neuronal\n",
    "    \n",
    "    Args:\n",
    "    trial (optuna.trial): Objeto de la clase trial de optuna\n",
    "    \n",
    "    Returns:\n",
    "    float: Accuracy obtenido en la validacion\"\"\"\n",
    "\n",
    "    neurons_per_layer       = []\n",
    "    activation_per_layer    = []\n",
    "    #se definen los valores que queremos que se evaluen por medio de optuna\n",
    "    n_layers            = trial.suggest_int(f'n_layers', 1, 3)\n",
    "\n",
    "    for i in range(n_layers):\n",
    "        channels    = trial.suggest_int(f'n_neurons_l{i}', 1, 50)\n",
    "        activation  = trial.suggest_categorical(f'activation_l{i}', ['relu','tanh','sigmoid'])\n",
    "        neurons_per_layer.append(channels)\n",
    "        activation_per_layer.append(activation)\n",
    "\n",
    "    #con los anteriores parametros, se crea el modelo\n",
    "    model               = MLPNetwork(n_layers,neurons_per_layer,activation_per_layer,num_classes)\n",
    "\n",
    "    #se define el tipo de hardware donde se realizara el entrenamiento\n",
    "    model.to(DEVICE)\n",
    "\n",
    "    #se define la funcion de perdida y el optimizador\n",
    "    optimizer_name      = trial.suggest_categorical(\"optimizer\", [\"Adam\", \"RMSprop\", \"SGD\"])\n",
    "    lr                  = trial.suggest_float(\"lr\", 1e-5, 1e-1, log=True)\n",
    "    optimizer           = getattr(optim, optimizer_name)(model.parameters(), lr=lr)\n",
    "\n",
    "    #se define la funcion de perdida\n",
    "    loss_fn             = nn.CrossEntropyLoss()\n",
    "\n",
    "    #se realiza el entrenamiento\n",
    "    for epoch in range(1, EPOCHS + 1):\n",
    "        train_loss                  = train(train_loader, model, loss_fn, optimizer,DEVICE)\n",
    "        accuracy,validation_loss    = test(validation_loader, model, loss_fn,DEVICE)\n",
    "\n",
    "        #se reporta el 'accuracy obtenido luego de la validacion'\n",
    "        trial.report(accuracy, epoch)\n",
    "\n",
    "        #si el entrenamiento no es prometedor, se detiene el entrenamiento\n",
    "        if trial.should_prune():\n",
    "            raise optuna.exceptions.TrialPruned()\n",
    "        \n",
    "    return accuracy"
   ]
  },
  {
   "cell_type": "code",
   "execution_count": null,
   "metadata": {},
   "outputs": [],
   "source": [
    "#se crea el estudio de optuna\n",
    "study_name      = \"MLP-training\"  \n",
    "\n",
    "#se carga el estudio si ya existe y se dirige la direccion hacia donde optuna realizara la optimizacion\n",
    "study           = optuna.create_study(direction='maximize',load_if_exists=True,study_name=study_name)\n",
    "study.optimize(objective, n_trials=10,n_jobs=-1)"
   ]
  },
  {
   "cell_type": "code",
   "execution_count": null,
   "metadata": {},
   "outputs": [],
   "source": [
    "#se imprimen los mejores hiperparmametros del estudio\n",
    "print(\"Best trial:\")\n",
    "trial = study.best_trial\n",
    "print(\"  Value: \", trial.value)\n",
    "print(\"  Params: \")\n",
    "for key, value in trial.params.items():\n",
    "    print(\"    {}: {}\".format(key, value))"
   ]
  },
  {
   "cell_type": "code",
   "execution_count": null,
   "metadata": {},
   "outputs": [],
   "source": [
    "neurons_per_layer_re        = []\n",
    "activation_per_layer_re     = []\n",
    "n_layers                    = study.best_trial.params[\"n_layers\"]\n",
    "for i in range(n_layers):\n",
    "    neurons_per_layer_re.append(study.best_trial.params[f\"n_neurons_l{i}\"])\n",
    "    activation_per_layer_re.append(study.best_trial.params[f\"activation_l{i}\"])\n",
    "\n",
    "model_re            = MLPNetwork(2,neurons_per_layer_re,activation_per_layer_re,num_classes)\n",
    "optimizer_name_re   = study.best_trial.params[\"optimizer\"]\n",
    "lr_re               = study.best_trial.params[\"lr\"]\n",
    "optimizer_re        = getattr(optim, optimizer_name_re)(model_re.parameters(), lr=lr_re)\n",
    "loss_fn_re          = nn.CrossEntropyLoss()\n",
    "\n",
    "#se realiza el entrenamiento\n",
    "for epoch in range(1, EPOCHS_RETRAIN+1):\n",
    "    train_loss      = train(train_loader, model_re, loss_fn_re , optimizer_re,DEVICE)\n",
    "    validation_loss = test(validation_loader, model_re, loss_fn_re ,DEVICE)\n",
    "    print(f\"Epoch {epoch}/{EPOCHS_RETRAIN} - val loss: {validation_loss:.4f}\")"
   ]
  },
  {
   "cell_type": "code",
   "execution_count": null,
   "metadata": {},
   "outputs": [],
   "source": [
    "#se realiza la evaluacion final del modelo\n",
    "accuracy, test_loss = test(test_loader, model_re, loss_fn_re,DEVICE)\n",
    "print(f\"Test loss: {test_loss:.4f} - Test Accuracy: {accuracy:.4f}\")"
   ]
  }
 ],
 "metadata": {
  "kernelspec": {
   "display_name": "cnn-env",
   "language": "python",
   "name": "python3"
  },
  "language_info": {
   "codemirror_mode": {
    "name": "ipython",
    "version": 3
   },
   "file_extension": ".py",
   "mimetype": "text/x-python",
   "name": "python",
   "nbconvert_exporter": "python",
   "pygments_lexer": "ipython3",
   "version": "3.9.11"
  }
 },
 "nbformat": 4,
 "nbformat_minor": 2
}
